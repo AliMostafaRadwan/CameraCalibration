{
 "cells": [
  {
   "cell_type": "code",
   "execution_count": null,
   "metadata": {},
   "outputs": [],
   "source": [
    "import argparse\n",
    "import cv2\n",
    "import numpy as np\n",
    "from easydict import EasyDict\n",
    "from pdb import set_trace as b"
   ]
  },
  {
   "cell_type": "code",
   "execution_count": null,
   "metadata": {},
   "outputs": [],
   "source": [
    "parser = argparse.ArgumentParser(description=\"Fisheye Camera Calibration\")\n",
    "parser.add_argument('-id','--CAMERA_ID', default=1, type=int, help='Camera ID')\n",
    "parser.add_argument('-fw','--FRAME_WIDTH', default=1280, type=int, help='Camera Frame Width')\n",
    "parser.add_argument('-fh','--FRAME_HEIGHT', default=720, type=int, help='Camera Frame Height')\n",
    "parser.add_argument('-bw','--N_CHESS_BORAD_WIDTH', default=6, type=int, help='Chess Board Width (corners number)')\n",
    "parser.add_argument('-bh','--N_CHESS_BORAD_HEIGHT', default=8, type=int, help='Chess Board Height (corners number)')\n",
    "parser.add_argument('-square','--SQUARE_SIZE_MM', default=20, type=int, help='Chess Board Square Size (mm)')\n",
    "parser.add_argument('-calibrate','--N_CALIBRATE_SIZE', default=10, type=int, help='Required Calibration Frame Number')\n",
    "parser.add_argument('-delay','--FIND_CHESSBOARD_DELAY_MOD', default=4, type=int, help='Find Chessboard Delay (frame number)')\n",
    "parser.add_argument('-read','--MAX_READ_FAIL_CTR', default=10, type=int, help='Max Read Image Failed Criteria (frame number)')\n",
    "cfgs = parser.parse_args()"
   ]
  },
  {
   "cell_type": "code",
   "execution_count": null,
   "metadata": {},
   "outputs": [],
   "source": [
    "# cfgs = EasyDict()\n",
    "# cfgs.CAMERA_ID = 1                      # 相机编号\n",
    "# cfgs.FRAME_WIDTH = 1280                 # 相机分辨率 帧宽度\n",
    "# cfgs.FRAME_HEIGHT = 720                 # 相机分辨率 帧高度\n",
    "# cfgs.N_CHESS_BORAD_WIDTH = 6            # 棋盘宽度 【内角点数】\n",
    "# cfgs.N_CHESS_BORAD_HEIGHT = 8           # 棋盘高度 【内角点数】\n",
    "# cfgs.SQUARE_SIZE_MM = 20                # 棋盘格边长 mm\n",
    "# cfgs.N_CALIBRATE_SIZE = 10              # 最小标定采样数量\n",
    "# cfgs.FIND_CHESSBOARD_DELAY_MOD = 4      # 延时的帧数\n",
    "# cfgs.FOCAL_SCALE = 1.0\n",
    "# cfgs.MAX_READ_FAIL_CTR = 10             # 读取图像超时设置\n",
    "cfgs.CHESS_BOARD_SIZE = lambda: (cfgs.N_CHESS_BORAD_WIDTH, cfgs.N_CHESS_BORAD_HEIGHT)   # 棋盘格尺寸"
   ]
  },
  {
   "cell_type": "code",
   "execution_count": null,
   "metadata": {},
   "outputs": [],
   "source": [
    "flags = EasyDict()                      # 标志清零\n",
    "flags.READ_FAIL_CTR = 0                 \n",
    "flags.frame_id = 0\n",
    "flags.ok = False"
   ]
  },
  {
   "cell_type": "code",
   "execution_count": null,
   "metadata": {},
   "outputs": [],
   "source": [
    "BOARD = np.array([ [(j * cfgs.SQUARE_SIZE_MM, i * cfgs.SQUARE_SIZE_MM, 0.)]\n",
    "    for i in range(cfgs.N_CHESS_BORAD_HEIGHT) for j in range(cfgs.N_CHESS_BORAD_WIDTH) ])"
   ]
  },
  {
   "cell_type": "code",
   "execution_count": null,
   "metadata": {},
   "outputs": [],
   "source": [
    "class calib_t(EasyDict):\n",
    "    def __init__(self):\n",
    "        super().__init__({\n",
    "        \"type\":None,                   # 自定义数据类型\n",
    "        \"camera_mat\":None,             # 相机内参\n",
    "        \"dist_coeff\":None,             # 畸变参数\n",
    "        \"rvecs\":None,                  # 旋转向量\n",
    "        \"tvecs\":None,                  # 平移向量\n",
    "        \"map1\":None,                   # 映射矩阵1\n",
    "        \"map2\":None,                   # 映射矩阵2\n",
    "        \"reproj_err\":None,             # 重投影误差\n",
    "        \"ok\":False,                    # 数据采集完成标志\n",
    "        })"
   ]
  },
  {
   "cell_type": "code",
   "execution_count": null,
   "metadata": {},
   "outputs": [],
   "source": [
    "# cv2.fisheye.calibrate ( objectPoints,    # 角点在棋盘中的空间坐标向量\n",
    "#                         imagePoints,     # 角点在图像中的坐标向量\n",
    "#                         image_size,      # 图片大小\n",
    "#                         K,               # 相机内参矩阵\n",
    "#                         D,               # 畸变参数向量\n",
    "#                         rvecs,           # 旋转向量\n",
    "#                         tvecs,           # 平移向量\n",
    "#                         flags,           # 操作标志\n",
    "#                         criteria         # 迭代优化算法的停止标准\n",
    "#                         )\n",
    "\n",
    "# flags:\n",
    "#     cv2.fisheye.CALIB_USE_INTRINSIC_GUESS     # 相机内参矩阵包含有效的fx，fy，cx，cy初始值，这些值会进一步进行优化\n",
    "#                                               # 否则，（cx，cy）初始化设置为图像中心（使用imageSize），并且以最小二乘法计算焦距。\n",
    "#     cv2.fisheye.CALIB_RECOMPUTE_EXTRINSIC     # 在每次内部参数优化迭代之后，将重新计算外部参数。\n",
    "#     cv2.fisheye.CALIB_CHECK_COND              # 检查条件编号的有效性\n",
    "#     cv2.fisheye.CALIB_FIX_SKEW                # 偏斜系数（alpha）设置为零，并保持为零\n",
    "#     cv2.fisheye.CALIB_FIX_K1 (K1-K4)          # 选定的畸变系数设置为零，并保持为零  CALIB_FIX_INTRINSIC则全为零\n",
    "\n",
    "# criteria:\n",
    "#     TermCriteria (int type, int maxCount, double epsilon)      # 类型、最大计数次数、最小精度\n",
    "#     Criteria type, can be one of: COUNT, EPS or COUNT + EPS    # 角点优化最大迭代次数或角点优化位置移动量小于epsilon值"
   ]
  },
  {
   "cell_type": "code",
   "execution_count": null,
   "metadata": {},
   "outputs": [],
   "source": [
    "# cv2.checkRange 检查元素非空及无异常值"
   ]
  },
  {
   "cell_type": "code",
   "execution_count": null,
   "metadata": {},
   "outputs": [],
   "source": [
    "class Fisheye:\n",
    "    def __init__(self):\n",
    "        self.data = calib_t()\n",
    "        self.inited = False\n",
    "        \n",
    "    def update(self, corners, frame_size):\n",
    "        board = [BOARD] * len(corners)\n",
    "        if not self.inited:\n",
    "            self._update_init(board, corners, frame_size)\n",
    "            self.inited = True\n",
    "        else:\n",
    "            self._update_refine(board, corners, frame_size)\n",
    "        #self._calc_reproj_err(corners)\n",
    "        \n",
    "    def _update_init(self, board, corners, frame_size):\n",
    "        data = self.data\n",
    "        data.type = \"FISHEYE\"\n",
    "        data.camera_mat = np.eye(3, 3)\n",
    "        data.dist_coeff = np.zeros((4, 1))\n",
    "        data.ok, data.camera_mat, data.dist_coeff, data.rvecs, data.tvecs = cv2.fisheye.calibrate(\n",
    "            board, corners, frame_size, data.camera_mat, data.dist_coeff,\n",
    "            flags=cv2.fisheye.CALIB_FIX_SKEW|cv2.fisheye.CALIB_RECOMPUTE_EXTRINSIC,\n",
    "            criteria=(cv2.TERM_CRITERIA_COUNT, 30, 0.1))\n",
    "        data.ok = data.ok and cv2.checkRange(data.camera_mat) and cv2.checkRange(data.dist_coeff)\n",
    "        \n",
    "    def _update_refine(self, board, corners, frame_size):\n",
    "        data = self.data\n",
    "        data.ok, data.camera_mat, data.dist_coeff, data.rvecs, data.tvecs = cv2.fisheye.calibrate(\n",
    "            board, corners, frame_size, data.camera_mat, data.dist_coeff,\n",
    "            flags=cv2.fisheye.CALIB_FIX_SKEW|cv2.fisheye.CALIB_RECOMPUTE_EXTRINSIC|cv2.CALIB_USE_INTRINSIC_GUESS,\n",
    "            criteria=(cv2.TERM_CRITERIA_COUNT, 10, 0.1))\n",
    "        data.ok = data.ok and cv2.checkRange(data.camera_mat) and cv2.checkRange(data.dist_coeff)\n",
    "        \n",
    "    def _calc_reproj_err(self, corners):\n",
    "        if not self.inited: return\n",
    "        data = self.data\n",
    "        data.reproj_err = []\n",
    "        for i in range(len(corners)):\n",
    "            corners_reproj = cv2.fisheye.projectPoints(BOARD[i], data.rvecs[i], data.tvecs[i], data.camera_mat, data.dist_coeff)\n",
    "            err = cv2.norm(corners_reproj, corners[i], cv2.NORM_L2)\n",
    "            data.reproj_err.append(err)"
   ]
  },
  {
   "cell_type": "code",
   "execution_count": null,
   "metadata": {},
   "outputs": [],
   "source": [
    "# cv2.findChessboardCorners ( image,              # 棋盘图像\n",
    "#                             patternSize,        # 棋盘格行和列的【内角点】数量\n",
    "#                             corners,            # 输出数组\n",
    "#                             flags               # 操作标志\n",
    "#                             )\n",
    "# flags:\n",
    "#     CV_CALIB_CB_ADAPTIVE_THRESH      # 使用自适应阈值处理将图像转换为黑白图像\n",
    "#     CV_CALIB_CB_NORMALIZE_IMAGE      # 对图像进行归一化。\n",
    "#     CV_CALIB_CB_FILTER_QUADS         # 过滤在轮廓检索阶段提取的假四边形。\n",
    "#     CALIB_CB_FAST_CHECK              # 对查找棋盘角的图像进行快速检查"
   ]
  },
  {
   "cell_type": "code",
   "execution_count": null,
   "metadata": {},
   "outputs": [],
   "source": [
    "# cv2.cornerSubPix (image,             # 棋盘图像\n",
    "#                   corners,           # 棋盘角点\n",
    "#                   winSize,           # 搜索窗口边长的一半\n",
    "#                   zeroZone,          # 搜索区域死区大小的一半, (-1,-1)代表无\n",
    "#                   criteria           # 迭代停止标准\n",
    "#                  )"
   ]
  },
  {
   "cell_type": "code",
   "execution_count": null,
   "metadata": {
    "code_folding": []
   },
   "outputs": [],
   "source": [
    "class data_t(EasyDict):                # 棋盘寻找和亚像素优化 得到角点坐标\n",
    "    def __init__(self, raw_frame):\n",
    "        super().__init__({\n",
    "        \"raw_frame\":raw_frame,\n",
    "        \"corners\":None,\n",
    "        \"ok\":False,\n",
    "        })\n",
    "        # 寻找棋盘角点\n",
    "        self.ok, self.corners = cv2.findChessboardCorners(self.raw_frame, cfgs.CHESS_BOARD_SIZE(),\n",
    "                                flags = cv2.CALIB_CB_ADAPTIVE_THRESH|cv2.CALIB_CB_NORMALIZE_IMAGE|cv2.CALIB_CB_FAST_CHECK)\n",
    "        if not self.ok: return\n",
    "        # 角点坐标亚像素优化\n",
    "        gray = cv2.cvtColor(self.raw_frame, cv2.COLOR_BGR2GRAY)\n",
    "        self.corners = cv2.cornerSubPix(gray, self.corners, (11, 11), (-1, -1),\n",
    "                        (cv2.TERM_CRITERIA_EPS + cv2.TERM_CRITERIA_MAX_ITER, 10, 0.1))"
   ]
  },
  {
   "cell_type": "code",
   "execution_count": null,
   "metadata": {},
   "outputs": [],
   "source": [
    "class history_t:                       # 定义历史存储数据类及相应操作\n",
    "    def __init__(self):\n",
    "        self.corners = []\n",
    "        self.updated = False\n",
    "    def append(self, current):\n",
    "        if not current.ok: return\n",
    "        self.corners.append(current.corners)\n",
    "        self.updated = True\n",
    "    def removei(self, i):\n",
    "        if not 0 <= i < len(self): return\n",
    "        del self.corners[i]\n",
    "        self.updated = True\n",
    "    def __len__(self):\n",
    "        return len(self.corners)\n",
    "    def get_corners(self):\n",
    "        self.updated = False\n",
    "        return self.corners"
   ]
  },
  {
   "cell_type": "code",
   "execution_count": null,
   "metadata": {},
   "outputs": [],
   "source": [
    "# cv2.fisheye.initUndistortRectifyMap (K,         # 相机内参矩阵\n",
    "#                                      D,         # 畸变向量\n",
    "#                                      R,         # 旋转矩阵\n",
    "#                                      P,         # 新的相机矩阵\n",
    "#                                      size,      # 输出图像大小\n",
    "#                                      m1type,    # 映射矩阵类型\n",
    "#                                      map1,      # 输出映射矩阵1\n",
    "#                                      map2       # 输出映射矩阵2\n",
    "#                                     )"
   ]
  },
  {
   "cell_type": "code",
   "execution_count": null,
   "metadata": {},
   "outputs": [],
   "source": [
    "def main():\n",
    "    history = history_t()\n",
    "\n",
    "    cap = cv2.VideoCapture(cfgs.CAMERA_ID)                                   # 开启相机\n",
    "    cap.set(cv2.CAP_PROP_FRAME_WIDTH, cfgs.FRAME_WIDTH)                      # 设置分辨率\n",
    "    cap.set(cv2.CAP_PROP_FRAME_HEIGHT, cfgs.FRAME_HEIGHT)\n",
    "    if not cap.isOpened(): \n",
    "        raise Exception(\"camera {} open failed\".format(cfgs.CAMERA_ID))      # 相机开启失败\n",
    "\n",
    "    fisheye = Fisheye()                                                      # 鱼眼相机类\n",
    "\n",
    "    while True:\n",
    "        ok, raw_frame = cap.read()                                           # 从相机读入原始帧\n",
    "        if not ok:\n",
    "            flags.READ_FAIL_CTR += 1\n",
    "            if flags.READ_FAIL_CTR >= cfgs.MAX_READ_FAIL_CTR:                # 读取图像超时\n",
    "                raise Exception(\"image read failed\")\n",
    "        else:\n",
    "            flags.READ_FAIL_CTR = 0\n",
    "            flags.frame_id += 1\n",
    "\n",
    "        if 0 == flags.frame_id % cfgs.FIND_CHESSBOARD_DELAY_MOD:             # 间隔一定帧数采样\n",
    "            current = data_t(raw_frame)                                      # 得到棋盘角点坐标\n",
    "            history.append(current)                                          # 存储数据\n",
    "\n",
    "        if len(history) >= cfgs.N_CALIBRATE_SIZE and history.updated:        # 达到标定采样数量且数据更新时开始标定\n",
    "            fisheye.update(history.get_corners(), raw_frame.shape[1::-1])    # 更新标定参数\n",
    "            calib = fisheye.data                                             # 得到标定参数 K D                     \n",
    "            calib.map1, calib.map2 = cv2.fisheye.initUndistortRectifyMap(\n",
    "                calib.camera_mat, calib.dist_coeff, np.eye(3, 3), calib.camera_mat, raw_frame.shape[1::-1], cv2.CV_16SC2)\n",
    "                                                                             # 得到去畸变映射map矩阵\n",
    "        if len(history) >= cfgs.N_CALIBRATE_SIZE:\n",
    "            undist_frame = cv2.remap(raw_frame, calib.map1, calib.map2, cv2.INTER_LINEAR);     \n",
    "            cv2.imshow(\"undist_frame\", undist_frame)                         # 重映射输出 去畸变图像\n",
    "\n",
    "        cv2.imshow(\"raw_frame\", raw_frame)\n",
    "        key = cv2.waitKey(1)\n",
    "        if key == 27: break                                                  # esc退出\n",
    "    \n",
    "    cv2.destroyAllWindows() \n",
    "    \n",
    "    if fisheye.data.dist_coeff is None:\n",
    "        raise Exception(\"calibration failed. chessboard not found, check the parameters\")  # 标定失败 未找到棋盘或参数设置错误\n",
    "    print(\"Calibration Complete\")\n",
    "    print(\"Camera Matrix is : {}\".format(fisheye.data.camera_mat.tolist()))\n",
    "    print(\"Distortion Coefficient is : {}\".format(fisheye.data.dist_coeff.tolist()))\n",
    "    np.save('camera_K.npy',fisheye.data.camera_mat.tolist())\n",
    "    np.save('camera_D.npy',fisheye.data.dist_coeff.tolist())                 # 输出并存储数据\n",
    "    \n",
    "if __name__ == '__main__':\n",
    "    main()\n"
   ]
  }
 ],
 "metadata": {
  "kernelspec": {
   "display_name": "Python 3",
   "language": "python",
   "name": "python3"
  },
  "language_info": {
   "codemirror_mode": {
    "name": "ipython",
    "version": 3
   },
   "file_extension": ".py",
   "mimetype": "text/x-python",
   "name": "python",
   "nbconvert_exporter": "python",
   "pygments_lexer": "ipython3",
   "version": "3.7.6"
  }
 },
 "nbformat": 4,
 "nbformat_minor": 4
}
